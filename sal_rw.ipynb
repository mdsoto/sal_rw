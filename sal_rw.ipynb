{
 "cells": [
  {
   "cell_type": "markdown",
   "metadata": {},
   "source": [
    "## Necessary libraries"
   ]
  },
  {
   "cell_type": "code",
   "execution_count": null,
   "metadata": {},
   "outputs": [],
   "source": [
    "import pandas as pd\n",
    "import numpy as np\n",
    "import matplotlib.pyplot as plt\n",
    "from sklearn.metrics import mean_squared_error"
   ]
  },
  {
   "cell_type": "markdown",
   "metadata": {},
   "source": [
    "## Control points"
   ]
  },
  {
   "cell_type": "code",
   "execution_count": null,
   "metadata": {
    "scrolled": true
   },
   "outputs": [],
   "source": [
    "# Load of digitazed control points from Gen-6 plot, at 75ºF, and presentation (first 5 lines)\n",
    "\n",
    "df_gen6 = pd.read_excel('gen6_75f.xlsx', sheet_name='gen6_75f')\n",
    "df_gen6.head(5)"
   ]
  },
  {
   "cell_type": "code",
   "execution_count": null,
   "metadata": {},
   "outputs": [],
   "source": [
    "# Statistical summary of the control points\n",
    "\n",
    "df_gen6.describe()"
   ]
  },
  {
   "cell_type": "code",
   "execution_count": null,
   "metadata": {},
   "outputs": [],
   "source": [
    "# Plots of the control points\n",
    "\n",
    "plt.figure(figsize=(18,6))\n",
    "\n",
    "plt.subplot(121)\n",
    "plt.plot(df_gen6['sal']/1000, df_gen6['rw'], '.', label=\"SLB Gen-6\")\n",
    "# plt.xlim(0,300)\n",
    "# plt.ylim(0,35)\n",
    "plt.legend()\n",
    "plt.grid(True)\n",
    "plt.xlabel(\"Salinity(kppm)\")\n",
    "plt.ylabel(\"Rw@75ºF(Ohm.m)\")\n",
    "\n",
    "plt.subplot(122)\n",
    "plt.plot(df_gen6['sal']/1000, df_gen6['cw'], '.', label=\"SLB Gen-6\")\n",
    "# plt.xlim(0,300)\n",
    "# plt.ylim(0,35)\n",
    "plt.legend()\n",
    "plt.grid(True)\n",
    "plt.xlabel(\"Salinity(kppm)\")\n",
    "plt.ylabel(\"Estimated Cw@75ºF(s/m)\")\n",
    "\n",
    "plt.show()"
   ]
  },
  {
   "cell_type": "markdown",
   "metadata": {},
   "source": [
    "Fig.1 - Control points from SLB Gen-6"
   ]
  },
  {
   "cell_type": "markdown",
   "metadata": {},
   "source": [
    "## Input salinities and conductivities for verification\n",
    "\n",
    "The maximum salinity of the water is around 263,080 ppm (26.3 wt%) so values way above this limit are unreal. Just for verification purpose a collection (DataFrame) of salinities are created from 1 to 300,000 ppm (step of 10) and its corresponding conductivity"
   ]
  },
  {
   "cell_type": "code",
   "execution_count": null,
   "metadata": {},
   "outputs": [],
   "source": [
    "# Array of water salinity, from 1 to 300,000 ppm, and conductivity\n",
    "\n",
    "df_salrw = pd.DataFrame(np.arange(1,300000,10), columns = [\"sal\"])"
   ]
  },
  {
   "cell_type": "code",
   "execution_count": null,
   "metadata": {},
   "outputs": [],
   "source": [
    "df_salrw.describe()"
   ]
  },
  {
   "cell_type": "markdown",
   "metadata": {},
   "source": [
    "## Salinity to water resistivity\n",
    "\n",
    "As the control points were taken only at 75º F, all the calculation with the verification pairs were done at the same temperature."
   ]
  },
  {
   "cell_type": "markdown",
   "metadata": {},
   "source": [
    "### By Crain (C)"
   ]
  },
  {
   "cell_type": "code",
   "execution_count": null,
   "metadata": {
    "scrolled": true
   },
   "outputs": [],
   "source": [
    "# Resistivity by Cain (rw75c) from salinity\n",
    "\n",
    "df_salrw ['rw75c'] = ((400000 / 75) / df_salrw ['sal']) ** 0.88\n",
    "\n",
    "# Corresponding conductivity\n",
    "\n",
    "df_salrw ['cw75c'] = 1/df_salrw ['rw75c']"
   ]
  },
  {
   "cell_type": "markdown",
   "metadata": {},
   "source": [
    "### By Bateman-Konen (BK)"
   ]
  },
  {
   "cell_type": "code",
   "execution_count": null,
   "metadata": {},
   "outputs": [],
   "source": [
    "# Resistivity by Bateman-Konen, from salinity\n",
    "\n",
    "df_salrw ['rw75bk'] = 0.0123 + (3647.5 / df_salrw ['sal']**0.955)\n",
    "\n",
    "# Corresponding conductivity\n",
    "\n",
    "df_salrw ['cw75bk'] = 1/df_salrw ['rw75bk']"
   ]
  },
  {
   "cell_type": "markdown",
   "metadata": {},
   "source": [
    "### By Kennedy (K)"
   ]
  },
  {
   "cell_type": "markdown",
   "metadata": {},
   "source": [
    "Kennedy proposed a quadratic equation to get conductivity (cwk) from salinity in % (sal/1000):\n",
    "\n",
    "    cwk = a(sal/10000 - ws0)^2 + b(sal/10000 - ws0) + c0"
   ]
  },
  {
   "cell_type": "code",
   "execution_count": null,
   "metadata": {},
   "outputs": [],
   "source": [
    "# Conductivity by Kenndy (cwk), from salinity\n",
    "\n",
    "a = - 0.02922\n",
    "b = - 0.0364\n",
    "ws0 = 29.46518957\n",
    "c0 = 24.30854\n",
    "\n",
    "df_salrw ['cw75k'] = a*((df_salrw ['sal']/10000) - ws0)**2 + b*((df_salrw ['sal']/10000) - ws0) + c0\n",
    "\n",
    "# Corresponding resistivity\n",
    "\n",
    "df_salrw ['rw75k'] = 1/df_salrw ['cw75k']"
   ]
  },
  {
   "cell_type": "code",
   "execution_count": null,
   "metadata": {},
   "outputs": [],
   "source": [
    "df_salrw.describe()"
   ]
  },
  {
   "cell_type": "markdown",
   "metadata": {},
   "source": [
    "## Plots of salinity to estimated water resistivity"
   ]
  },
  {
   "cell_type": "code",
   "execution_count": null,
   "metadata": {
    "scrolled": false
   },
   "outputs": [],
   "source": [
    "plt.figure(figsize=(18,5))\n",
    "\n",
    "plt.subplot(121)\n",
    "plt.loglog(df_gen6['sal']/1000, df_gen6['rw'], '.', label=\"SLB Gen-6\")\n",
    "plt.loglog(df_salrw['sal']/1000, df_salrw['rw75c'], label=\"Crain\")\n",
    "plt.loglog(df_salrw['sal']/1000, df_salrw['rw75bk'], label=\"Bateman-Konen\")\n",
    "plt.loglog(df_salrw['sal']/1000, df_salrw['rw75k'], label=\"Kennedy\")\n",
    "plt.legend()\n",
    "plt.xlim(0.1,300)\n",
    "plt.ylim(0.1,100)\n",
    "plt.grid(True)\n",
    "plt.xlabel(\"Salinity(kppm)\")\n",
    "plt.ylabel(\"Estimated Rw@75ºF(ohmm)\")\n",
    "plt.text(0.13, 60, 'A', fontsize=14, weight=\"bold\")\n",
    "\n",
    "plt.subplot(122)\n",
    "plt.plot(df_gen6['sal']/1000, df_gen6['cw'], '.', label=\"SLB Gen-6\")\n",
    "plt.plot(df_salrw['sal']/1000, df_salrw['cw75c'], label=\"Crain\")\n",
    "plt.plot(df_salrw['sal']/1000, df_salrw['cw75bk'], label=\"Bateman-Konen\")\n",
    "plt.plot(df_salrw['sal']/1000, df_salrw['cw75k'], label=\"Kennedy\")\n",
    "plt.xlim(0,300)\n",
    "plt.ylim(0,35)\n",
    "plt.legend()\n",
    "plt.grid(True)\n",
    "plt.xlabel(\"Salinity(kppm)\")\n",
    "plt.ylabel(\"Estimated Cw@75ºF(s/m)\")\n",
    "plt.text(260, 33, 'B', fontsize=14, weight=\"bold\")\n",
    "\n",
    "plt.show()"
   ]
  },
  {
   "cell_type": "markdown",
   "metadata": {},
   "source": [
    "Fig.2 - Salinity to estimated water resistivity (A) and conductivity (B)"
   ]
  },
  {
   "cell_type": "markdown",
   "metadata": {},
   "source": [
    "## Preliminary observation\n",
    "\n",
    "The loglog plot of salinity vs estimated water resistivity, figure 2A, doesn't help in the verification. Figure 2B, the loglog plot of salinity vs estimated conductivity, contributes more in that objective. In that plot is clear that models start to diverge above salinities of 160,000 ppm. Beyond that point the Kennedy formula is the only that follows the control points. Let do another plot to confirm this preliminary observation."
   ]
  },
  {
   "cell_type": "markdown",
   "metadata": {},
   "source": [
    "## Residual respect to the control points\n",
    "\n",
    "By using np.polyfit and np.poly1d an regression equation for the control points can be obtained, then salinity for verification can be  plugged in this equation in order to have a continuous version of the control points, which is the reference for computing the residual. "
   ]
  },
  {
   "cell_type": "code",
   "execution_count": null,
   "metadata": {},
   "outputs": [],
   "source": [
    "# Regression equation of the control points\n",
    "\n",
    "x = df_gen6['sal']\n",
    "y = df_gen6['cw']\n",
    "\n",
    "degree = 2\n",
    "poly_coeff = np.polyfit(x,y, degree)\n",
    "poly_eq = np.poly1d(poly_coeff) \n",
    "\n",
    "new_y = np.poly1d(poly_coeff)\n",
    "print(new_y)"
   ]
  },
  {
   "cell_type": "code",
   "execution_count": null,
   "metadata": {},
   "outputs": [],
   "source": [
    "# Continuous control points\n",
    "\n",
    "continous_x = df_salrw ['sal']\n",
    "continous_y = new_y(continous_x)\n",
    "\n",
    "plt.figure(figsize=(8,5))\n",
    "plt.plot(x/1000, y, '.',label=\"SLB Gen-6\")\n",
    "plt.plot(continous_x/1000, continous_y, label=\"Regression\")\n",
    "plt.xlabel(\"Salinity(kppm)\")\n",
    "plt.ylabel(\"Estimated Cw@75ºF(s/m)\")\n",
    "plt.grid(True)\n",
    "plt.xlim(0,300)\n",
    "plt.legend()\n",
    "plt.show()"
   ]
  },
  {
   "cell_type": "markdown",
   "metadata": {},
   "source": [
    "Fig.3 - Regression of the control data"
   ]
  },
  {
   "cell_type": "code",
   "execution_count": null,
   "metadata": {},
   "outputs": [],
   "source": [
    "plt.figure(figsize=(8,5))\n",
    "plt.plot(continous_x/1000, continous_y - continous_y, label=\"Regression from SLB Gen-6\")\n",
    "plt.plot(continous_x/1000, continous_y - df_salrw['cw75c'], label=\"Crain\")\n",
    "plt.plot(continous_x/1000, continous_y - df_salrw['cw75bk'], label=\"Bateman-Konen\")\n",
    "plt.plot(continous_x/1000, continous_y - df_salrw['cw75k'], label=\"Kennedy\")\n",
    "plt.xlabel(\"Salinity(kppm)\")\n",
    "plt.ylabel(\"Residual\")\n",
    "plt.grid(True)\n",
    "plt.xlim(0,300)\n",
    "plt.legend()\n",
    "plt.show()"
   ]
  },
  {
   "cell_type": "markdown",
   "metadata": {},
   "source": [
    "Fig.4 - Residual of the three formulas respect to the control data"
   ]
  },
  {
   "cell_type": "markdown",
   "metadata": {},
   "source": [
    "## Final observation\n",
    "\n",
    "A residual of formula respect a control data (regression in this case) should be distributed around zero. Figure 4 confirms what in shown in figure 3B, that the Kennedy formula is the best from salinity to conductivity. The other two formulas show strong trends far from zero, specially between 140 and 160 kppm of salinity."
   ]
  }
 ],
 "metadata": {
  "kernelspec": {
   "display_name": "Python 3",
   "language": "python",
   "name": "python3"
  },
  "language_info": {
   "codemirror_mode": {
    "name": "ipython",
    "version": 3
   },
   "file_extension": ".py",
   "mimetype": "text/x-python",
   "name": "python",
   "nbconvert_exporter": "python",
   "pygments_lexer": "ipython3",
   "version": "3.8.6"
  },
  "toc": {
   "base_numbering": 1,
   "nav_menu": {},
   "number_sections": true,
   "sideBar": true,
   "skip_h1_title": false,
   "title_cell": "Table of Contents",
   "title_sidebar": "Contents",
   "toc_cell": false,
   "toc_position": {},
   "toc_section_display": true,
   "toc_window_display": false
  },
  "varInspector": {
   "cols": {
    "lenName": 16,
    "lenType": 16,
    "lenVar": 40
   },
   "kernels_config": {
    "python": {
     "delete_cmd_postfix": "",
     "delete_cmd_prefix": "del ",
     "library": "var_list.py",
     "varRefreshCmd": "print(var_dic_list())"
    },
    "r": {
     "delete_cmd_postfix": ") ",
     "delete_cmd_prefix": "rm(",
     "library": "var_list.r",
     "varRefreshCmd": "cat(var_dic_list()) "
    }
   },
   "position": {
    "height": "549px",
    "left": "701px",
    "right": "20px",
    "top": "25px",
    "width": "665px"
   },
   "types_to_exclude": [
    "module",
    "function",
    "builtin_function_or_method",
    "instance",
    "_Feature"
   ],
   "window_display": false
  }
 },
 "nbformat": 4,
 "nbformat_minor": 4
}
