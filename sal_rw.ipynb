{
 "cells": [
  {
   "cell_type": "markdown",
   "metadata": {},
   "source": [
    "## Necessary libraries"
   ]
  },
  {
   "cell_type": "code",
   "execution_count": 1,
   "metadata": {},
   "outputs": [],
   "source": [
    "import pandas as pd\n",
    "import numpy as np\n",
    "import matplotlib.pyplot as plt\n",
    "from sklearn.metrics import mean_squared_error"
   ]
  },
  {
   "cell_type": "markdown",
   "metadata": {},
   "source": [
    "## Control points"
   ]
  },
  {
   "cell_type": "code",
   "execution_count": 2,
   "metadata": {
    "scrolled": true
   },
   "outputs": [
    {
     "data": {
      "text/html": [
       "<div>\n",
       "<style scoped>\n",
       "    .dataframe tbody tr th:only-of-type {\n",
       "        vertical-align: middle;\n",
       "    }\n",
       "\n",
       "    .dataframe tbody tr th {\n",
       "        vertical-align: top;\n",
       "    }\n",
       "\n",
       "    .dataframe thead th {\n",
       "        text-align: right;\n",
       "    }\n",
       "</style>\n",
       "<table border=\"1\" class=\"dataframe\">\n",
       "  <thead>\n",
       "    <tr style=\"text-align: right;\">\n",
       "      <th></th>\n",
       "      <th>rw</th>\n",
       "      <th>cw</th>\n",
       "      <th>sal</th>\n",
       "    </tr>\n",
       "  </thead>\n",
       "  <tbody>\n",
       "    <tr>\n",
       "      <th>0</th>\n",
       "      <td>0.040869</td>\n",
       "      <td>24.468531</td>\n",
       "      <td>270000</td>\n",
       "    </tr>\n",
       "    <tr>\n",
       "      <th>1</th>\n",
       "      <td>0.040869</td>\n",
       "      <td>24.468531</td>\n",
       "      <td>250000</td>\n",
       "    </tr>\n",
       "    <tr>\n",
       "      <th>2</th>\n",
       "      <td>0.044783</td>\n",
       "      <td>22.329795</td>\n",
       "      <td>200000</td>\n",
       "    </tr>\n",
       "    <tr>\n",
       "      <th>3</th>\n",
       "      <td>0.049073</td>\n",
       "      <td>20.378001</td>\n",
       "      <td>170000</td>\n",
       "    </tr>\n",
       "    <tr>\n",
       "      <th>4</th>\n",
       "      <td>0.056425</td>\n",
       "      <td>17.722766</td>\n",
       "      <td>140000</td>\n",
       "    </tr>\n",
       "  </tbody>\n",
       "</table>\n",
       "</div>"
      ],
      "text/plain": [
       "         rw         cw     sal\n",
       "0  0.040869  24.468531  270000\n",
       "1  0.040869  24.468531  250000\n",
       "2  0.044783  22.329795  200000\n",
       "3  0.049073  20.378001  170000\n",
       "4  0.056425  17.722766  140000"
      ]
     },
     "execution_count": 2,
     "metadata": {},
     "output_type": "execute_result"
    }
   ],
   "source": [
    "# Load of digitazed control points from Gen-6 plot, at 75ºF, and presentation (first 5 lines)\n",
    "\n",
    "df_gen6 = pd.read_excel('gen6_75f.xlsx', sheet_name='gen6_75f')\n",
    "df_gen6.head(5)"
   ]
  },
  {
   "cell_type": "code",
   "execution_count": 3,
   "metadata": {},
   "outputs": [
    {
     "data": {
      "text/html": [
       "<div>\n",
       "<style scoped>\n",
       "    .dataframe tbody tr th:only-of-type {\n",
       "        vertical-align: middle;\n",
       "    }\n",
       "\n",
       "    .dataframe tbody tr th {\n",
       "        vertical-align: top;\n",
       "    }\n",
       "\n",
       "    .dataframe thead th {\n",
       "        text-align: right;\n",
       "    }\n",
       "</style>\n",
       "<table border=\"1\" class=\"dataframe\">\n",
       "  <thead>\n",
       "    <tr style=\"text-align: right;\">\n",
       "      <th></th>\n",
       "      <th>rw</th>\n",
       "      <th>cw</th>\n",
       "      <th>sal</th>\n",
       "    </tr>\n",
       "  </thead>\n",
       "  <tbody>\n",
       "    <tr>\n",
       "      <th>count</th>\n",
       "      <td>32.000000</td>\n",
       "      <td>32.000000</td>\n",
       "      <td>32.00000</td>\n",
       "    </tr>\n",
       "    <tr>\n",
       "      <th>mean</th>\n",
       "      <td>1.619892</td>\n",
       "      <td>6.492453</td>\n",
       "      <td>52981.25000</td>\n",
       "    </tr>\n",
       "    <tr>\n",
       "      <th>std</th>\n",
       "      <td>2.371236</td>\n",
       "      <td>8.011709</td>\n",
       "      <td>76140.01719</td>\n",
       "    </tr>\n",
       "    <tr>\n",
       "      <th>min</th>\n",
       "      <td>0.040869</td>\n",
       "      <td>0.116372</td>\n",
       "      <td>600.00000</td>\n",
       "    </tr>\n",
       "    <tr>\n",
       "      <th>25%</th>\n",
       "      <td>0.095830</td>\n",
       "      <td>0.503452</td>\n",
       "      <td>2750.00000</td>\n",
       "    </tr>\n",
       "    <tr>\n",
       "      <th>50%</th>\n",
       "      <td>0.457210</td>\n",
       "      <td>2.200179</td>\n",
       "      <td>13000.00000</td>\n",
       "    </tr>\n",
       "    <tr>\n",
       "      <th>75%</th>\n",
       "      <td>2.038046</td>\n",
       "      <td>10.463559</td>\n",
       "      <td>72500.00000</td>\n",
       "    </tr>\n",
       "    <tr>\n",
       "      <th>max</th>\n",
       "      <td>8.593133</td>\n",
       "      <td>24.468531</td>\n",
       "      <td>270000.00000</td>\n",
       "    </tr>\n",
       "  </tbody>\n",
       "</table>\n",
       "</div>"
      ],
      "text/plain": [
       "              rw         cw           sal\n",
       "count  32.000000  32.000000      32.00000\n",
       "mean    1.619892   6.492453   52981.25000\n",
       "std     2.371236   8.011709   76140.01719\n",
       "min     0.040869   0.116372     600.00000\n",
       "25%     0.095830   0.503452    2750.00000\n",
       "50%     0.457210   2.200179   13000.00000\n",
       "75%     2.038046  10.463559   72500.00000\n",
       "max     8.593133  24.468531  270000.00000"
      ]
     },
     "execution_count": 3,
     "metadata": {},
     "output_type": "execute_result"
    }
   ],
   "source": [
    "# Statistical summary of the control points\n",
    "\n",
    "df_gen6.describe()"
   ]
  },
  {
   "cell_type": "code",
   "execution_count": 4,
   "metadata": {},
   "outputs": [
    {
     "data": {
      "image/png": "[encoded data removed]",
      "text/plain": [
       "<Figure size 1296x432 with 2 Axes>"
      ]
     },
     "metadata": {
      "needs_background": "light"
     },
     "output_type": "display_data"
    }
   ],
   "source": [
    "# Plots of the control points\n",
    "\n",
    "plt.figure(figsize=(18,6))\n",
    "\n",
    "plt.subplot(121)\n",
    "plt.plot(df_gen6['sal']/1000, df_gen6['rw'], '.', label=\"SLB Gen-6\")\n",
    "# plt.xlim(0,300)\n",
    "# plt.ylim(0,35)\n",
    "plt.legend()\n",
    "plt.grid(True)\n",
    "plt.xlabel(\"Salinity(kppm)\")\n",
    "plt.ylabel(\"Rw@75ºF(Ohm.m)\")\n",
    "\n",
    "plt.subplot(122)\n",
    "plt.plot(df_gen6['sal']/1000, df_gen6['cw'], '.', label=\"SLB Gen-6\")\n",
    "# plt.xlim(0,300)\n",
    "# plt.ylim(0,35)\n",
    "plt.legend()\n",
    "plt.grid(True)\n",
    "plt.xlabel(\"Salinity(kppm)\")\n",
    "plt.ylabel(\"Estimated Cw@75ºF(s/m)\")\n",
    "\n",
    "plt.show()"
   ]
  },
  {
   "cell_type": "markdown",
   "metadata": {},
   "source": [
    "Fig.1 - Control points from SLB Gen-6"
   ]
  },
  {
   "cell_type": "markdown",
   "metadata": {},
   "source": [
    "## Input salinities and conductivities for verification\n",
    "\n",
    "The maximum salinity of the water is around 263,080 ppm (26.3 wt%) so values way above this limit are unreal. Just for verification purpose a collection (DataFrame) of salinities are created from 1 to 300,000 ppm (step of 10) and its corresponding conductivity"
   ]
  },
  {
   "cell_type": "code",
   "execution_count": 5,
   "metadata": {},
   "outputs": [],
   "source": [
    "# Array of water salinity, from 1 to 300,000 ppm, and conductivity\n",
    "\n",
    "df_salrw = pd.DataFrame(np.arange(1,300000,10), columns = [\"sal\"])"
   ]
  },
  {
   "cell_type": "code",
   "execution_count": 6,
   "metadata": {},
   "outputs": [
    {
     "data": {
      "text/html": [
       "<div>\n",
       "<style scoped>\n",
       "    .dataframe tbody tr th:only-of-type {\n",
       "        vertical-align: middle;\n",
       "    }\n",
       "\n",
       "    .dataframe tbody tr th {\n",
       "        vertical-align: top;\n",
       "    }\n",
       "\n",
       "    .dataframe thead th {\n",
       "        text-align: right;\n",
       "    }\n",
       "</style>\n",
       "<table border=\"1\" class=\"dataframe\">\n",
       "  <thead>\n",
       "    <tr style=\"text-align: right;\">\n",
       "      <th></th>\n",
       "      <th>sal</th>\n",
       "    </tr>\n",
       "  </thead>\n",
       "  <tbody>\n",
       "    <tr>\n",
       "      <th>count</th>\n",
       "      <td>30000.000000</td>\n",
       "    </tr>\n",
       "    <tr>\n",
       "      <th>mean</th>\n",
       "      <td>149996.000000</td>\n",
       "    </tr>\n",
       "    <tr>\n",
       "      <th>std</th>\n",
       "      <td>86603.983742</td>\n",
       "    </tr>\n",
       "    <tr>\n",
       "      <th>min</th>\n",
       "      <td>1.000000</td>\n",
       "    </tr>\n",
       "    <tr>\n",
       "      <th>25%</th>\n",
       "      <td>74998.500000</td>\n",
       "    </tr>\n",
       "    <tr>\n",
       "      <th>50%</th>\n",
       "      <td>149996.000000</td>\n",
       "    </tr>\n",
       "    <tr>\n",
       "      <th>75%</th>\n",
       "      <td>224993.500000</td>\n",
       "    </tr>\n",
       "    <tr>\n",
       "      <th>max</th>\n",
       "      <td>299991.000000</td>\n",
       "    </tr>\n",
       "  </tbody>\n",
       "</table>\n",
       "</div>"
      ],
      "text/plain": [
       "                 sal\n",
       "count   30000.000000\n",
       "mean   149996.000000\n",
       "std     86603.983742\n",
       "min         1.000000\n",
       "25%     74998.500000\n",
       "50%    149996.000000\n",
       "75%    224993.500000\n",
       "max    299991.000000"
      ]
     },
     "execution_count": 6,
     "metadata": {},
     "output_type": "execute_result"
    }
   ],
   "source": [
    "df_salrw.describe()"
   ]
  },
  {
   "cell_type": "markdown",
   "metadata": {},
   "source": [
    "## Salinity to water resistivity\n",
    "\n",
    "As the control points were taken only at 75º F, all the calculation with the verification pairs were done at the same temperature."
   ]
  },
  {
   "cell_type": "markdown",
   "metadata": {},
   "source": [
    "### By Crain (C)"
   ]
  },
  {
   "cell_type": "code",
   "execution_count": 7,
   "metadata": {
    "scrolled": true
   },
   "outputs": [],
   "source": [
    "# Resistivity by Cain (rw75c) from salinity\n",
    "\n",
    "df_salrw ['rw75c'] = ((400000 / 75) / df_salrw ['sal']) ** 0.88\n",
    "\n",
    "# Corresponding conductivity\n",
    "\n",
    "df_salrw ['cw75c'] = 1/df_salrw ['rw75c']"
   ]
  },
  {
   "cell_type": "markdown",
   "metadata": {},
   "source": [
    "### By Bateman-Konen (BK)"
   ]
  },
  {
   "cell_type": "code",
   "execution_count": 8,
   "metadata": {},
   "outputs": [],
   "source": [
    "# Resistivity by Bateman-Konen, from salinity\n",
    "\n",
    "df_salrw ['rw75bk'] = 0.0123 + (3647.5 / df_salrw ['sal']**0.955)\n",
    "\n",
    "# Corresponding conductivity\n",
    "\n",
    "df_salrw ['cw75bk'] = 1/df_salrw ['rw75bk']"
   ]
  },
  {
   "cell_type": "markdown",
   "metadata": {},
   "source": [
    "### By Kennedy (K)"
   ]
  },
  {
   "cell_type": "markdown",
   "metadata": {},
   "source": [
    "Kennedy proposed a quadratic equation to get conductivity (cwk) from salinity in % (sal/1000):\n",
    "\n",
    "    cwk = a(sal/10000 - ws0)^2 + b(sal/10000 - ws0) + c0"
   ]
  },
  {
   "cell_type": "code",
   "execution_count": 9,
   "metadata": {},
   "outputs": [],
   "source": [
    "# Conductivity by Kenndy (cwk), from salinity\n",
    "\n",
    "a = - 0.02922\n",
    "b = - 0.0364\n",
    "ws0 = 29.46518957\n",
    "c0 = 24.30854\n",
    "\n",
    "df_salrw ['cw75k'] = a*((df_salrw ['sal']/10000) - ws0)**2 + b*((df_salrw ['sal']/10000) - ws0) + c0\n",
    "\n",
    "# Corresponding resistivity\n",
    "\n",
    "df_salrw ['rw75k'] = 1/df_salrw ['cw75k']"
   ]
  },
  {
   "cell_type": "code",
   "execution_count": 10,
   "metadata": {},
   "outputs": [
    {
     "data": {
      "text/html": [
       "<div>\n",
       "<style scoped>\n",
       "    .dataframe tbody tr th:only-of-type {\n",
       "        vertical-align: middle;\n",
       "    }\n",
       "\n",
       "    .dataframe tbody tr th {\n",
       "        vertical-align: top;\n",
       "    }\n",
       "\n",
       "    .dataframe thead th {\n",
       "        text-align: right;\n",
       "    }\n",
       "</style>\n",
       "<table border=\"1\" class=\"dataframe\">\n",
       "  <thead>\n",
       "    <tr style=\"text-align: right;\">\n",
       "      <th></th>\n",
       "      <th>sal</th>\n",
       "      <th>rw75c</th>\n",
       "      <th>cw75c</th>\n",
       "      <th>rw75bk</th>\n",
       "      <th>cw75bk</th>\n",
       "      <th>cw75k</th>\n",
       "      <th>rw75k</th>\n",
       "    </tr>\n",
       "  </thead>\n",
       "  <tbody>\n",
       "    <tr>\n",
       "      <th>count</th>\n",
       "      <td>30000.000000</td>\n",
       "      <td>30000.000000</td>\n",
       "      <td>30000.000000</td>\n",
       "      <td>30000.000000</td>\n",
       "      <td>30000.000000</td>\n",
       "      <td>30000.000000</td>\n",
       "      <td>30000.000000</td>\n",
       "    </tr>\n",
       "    <tr>\n",
       "      <th>mean</th>\n",
       "      <td>149996.000000</td>\n",
       "      <td>0.237549</td>\n",
       "      <td>18.447567</td>\n",
       "      <td>0.316481</td>\n",
       "      <td>17.390867</td>\n",
       "      <td>16.529207</td>\n",
       "      <td>0.180063</td>\n",
       "    </tr>\n",
       "    <tr>\n",
       "      <th>std</th>\n",
       "      <td>86603.983742</td>\n",
       "      <td>11.158433</td>\n",
       "      <td>9.772095</td>\n",
       "      <td>21.254530</td>\n",
       "      <td>8.324239</td>\n",
       "      <td>7.275041</td>\n",
       "      <td>1.289224</td>\n",
       "    </tr>\n",
       "    <tr>\n",
       "      <th>min</th>\n",
       "      <td>1.000000</td>\n",
       "      <td>0.028834</td>\n",
       "      <td>0.000525</td>\n",
       "      <td>0.033747</td>\n",
       "      <td>0.000274</td>\n",
       "      <td>0.012514</td>\n",
       "      <td>0.041119</td>\n",
       "    </tr>\n",
       "    <tr>\n",
       "      <th>25%</th>\n",
       "      <td>74998.500000</td>\n",
       "      <td>0.037141</td>\n",
       "      <td>10.239704</td>\n",
       "      <td>0.040528</td>\n",
       "      <td>10.764584</td>\n",
       "      <td>11.010125</td>\n",
       "      <td>0.043207</td>\n",
       "    </tr>\n",
       "    <tr>\n",
       "      <th>50%</th>\n",
       "      <td>149996.000000</td>\n",
       "      <td>0.053065</td>\n",
       "      <td>18.844787</td>\n",
       "      <td>0.053876</td>\n",
       "      <td>18.561256</td>\n",
       "      <td>18.720707</td>\n",
       "      <td>0.053417</td>\n",
       "    </tr>\n",
       "    <tr>\n",
       "      <th>75%</th>\n",
       "      <td>224993.500000</td>\n",
       "      <td>0.097659</td>\n",
       "      <td>26.924689</td>\n",
       "      <td>0.092897</td>\n",
       "      <td>24.674581</td>\n",
       "      <td>23.144257</td>\n",
       "      <td>0.090825</td>\n",
       "    </tr>\n",
       "    <tr>\n",
       "      <th>max</th>\n",
       "      <td>299991.000000</td>\n",
       "      <td>1904.403104</td>\n",
       "      <td>34.681379</td>\n",
       "      <td>3647.512300</td>\n",
       "      <td>29.632680</td>\n",
       "      <td>24.319876</td>\n",
       "      <td>79.913489</td>\n",
       "    </tr>\n",
       "  </tbody>\n",
       "</table>\n",
       "</div>"
      ],
      "text/plain": [
       "                 sal         rw75c         cw75c        rw75bk        cw75bk  \\\n",
       "count   30000.000000  30000.000000  30000.000000  30000.000000  30000.000000   \n",
       "mean   149996.000000      0.237549     18.447567      0.316481     17.390867   \n",
       "std     86603.983742     11.158433      9.772095     21.254530      8.324239   \n",
       "min         1.000000      0.028834      0.000525      0.033747      0.000274   \n",
       "25%     74998.500000      0.037141     10.239704      0.040528     10.764584   \n",
       "50%    149996.000000      0.053065     18.844787      0.053876     18.561256   \n",
       "75%    224993.500000      0.097659     26.924689      0.092897     24.674581   \n",
       "max    299991.000000   1904.403104     34.681379   3647.512300     29.632680   \n",
       "\n",
       "              cw75k         rw75k  \n",
       "count  30000.000000  30000.000000  \n",
       "mean      16.529207      0.180063  \n",
       "std        7.275041      1.289224  \n",
       "min        0.012514      0.041119  \n",
       "25%       11.010125      0.043207  \n",
       "50%       18.720707      0.053417  \n",
       "75%       23.144257      0.090825  \n",
       "max       24.319876     79.913489  "
      ]
     },
     "execution_count": 10,
     "metadata": {},
     "output_type": "execute_result"
    }
   ],
   "source": [
    "df_salrw.describe()"
   ]
  },
  {
   "cell_type": "markdown",
   "metadata": {},
   "source": [
    "## Plots of salinity to estimated water resistivity"
   ]
  },
  {
   "cell_type": "code",
   "execution_count": 11,
   "metadata": {
    "scrolled": false
   },
   "outputs": [
    {
     "data": {
      "image/png": "[encoded data removed]",
      "text/plain": [
       "<Figure size 1296x360 with 2 Axes>"
      ]
     },
     "metadata": {
      "needs_background": "light"
     },
     "output_type": "display_data"
    }
   ],
   "source": [
    "plt.figure(figsize=(18,5))\n",
    "\n",
    "plt.subplot(121)\n",
    "plt.loglog(df_gen6['sal']/1000, df_gen6['rw'], '.', label=\"SLB Gen-6\")\n",
    "plt.loglog(df_salrw['sal']/1000, df_salrw['rw75c'], label=\"Crain\")\n",
    "plt.loglog(df_salrw['sal']/1000, df_salrw['rw75bk'], label=\"Bateman-Konen\")\n",
    "plt.loglog(df_salrw['sal']/1000, df_salrw['rw75k'], label=\"Kennedy\")\n",
    "plt.legend()\n",
    "plt.xlim(0.1,300)\n",
    "plt.ylim(0.1,100)\n",
    "plt.grid(True)\n",
    "plt.xlabel(\"Salinity(kppm)\")\n",
    "plt.ylabel(\"Estimated Rw@75ºF(ohmm)\")\n",
    "plt.text(0.13, 60, 'A', fontsize=14, weight=\"bold\")\n",
    "\n",
    "plt.subplot(122)\n",
    "plt.plot(df_gen6['sal']/1000, df_gen6['cw'], '.', label=\"SLB Gen-6\")\n",
    "plt.plot(df_salrw['sal']/1000, df_salrw['cw75c'], label=\"Crain\")\n",
    "plt.plot(df_salrw['sal']/1000, df_salrw['cw75bk'], label=\"Bateman-Konen\")\n",
    "plt.plot(df_salrw['sal']/1000, df_salrw['cw75k'], label=\"Kennedy\")\n",
    "plt.xlim(0,300)\n",
    "plt.ylim(0,35)\n",
    "plt.legend()\n",
    "plt.grid(True)\n",
    "plt.xlabel(\"Salinity(kppm)\")\n",
    "plt.ylabel(\"Estimated Cw@75ºF(s/m)\")\n",
    "plt.text(260, 33, 'B', fontsize=14, weight=\"bold\")\n",
    "\n",
    "plt.show()"
   ]
  },
  {
   "cell_type": "markdown",
   "metadata": {},
   "source": [
    "Fig.2 - Salinity to estimated water resistivity (A) and conductivity (B)"
   ]
  },
  {
   "cell_type": "markdown",
   "metadata": {},
   "source": [
    "## Preliminary observation\n",
    "\n",
    "The loglog plot of salinity vs estimated water resistivity, figure 2A, doesn't help in the verification. Figure 2B, the loglog plot of salinity vs estimated conductivity, contributes more in that objective. In that plot is clear that models start to diverge above salinities of 160,000 ppm. Beyond that point the Kennedy formula is the only that follows the control points. Let do another plot to confirm this preliminary observation."
   ]
  },
  {
   "cell_type": "markdown",
   "metadata": {},
   "source": [
    "## Residual respect to the control points\n",
    "\n",
    "By using np.polyfit and np.poly1d an regression equation for the control points can be obtained, then salinity for verification can be  plugged in this equation in order to have a continuous version of the control points, which is the reference for computing the residual. "
   ]
  },
  {
   "cell_type": "code",
   "execution_count": 12,
   "metadata": {},
   "outputs": [
    {
     "name": "stdout",
     "output_type": "stream",
     "text": [
      "            2\n",
      "-2.728e-10 x + 0.0001652 x + 0.03986\n"
     ]
    }
   ],
   "source": [
    "# Regression equation of the control points\n",
    "\n",
    "x = df_gen6['sal']\n",
    "y = df_gen6['cw']\n",
    "\n",
    "degree = 2\n",
    "poly_coeff = np.polyfit(x,y, degree)\n",
    "poly_eq = np.poly1d(poly_coeff) \n",
    "\n",
    "new_y = np.poly1d(poly_coeff)\n",
    "print(new_y)"
   ]
  },
  {
   "cell_type": "code",
   "execution_count": 13,
   "metadata": {},
   "outputs": [
    {
     "data": {
      "image/png": "[encoded data removed]",
      "text/plain": [
       "<Figure size 576x360 with 1 Axes>"
      ]
     },
     "metadata": {
      "needs_background": "light"
     },
     "output_type": "display_data"
    }
   ],
   "source": [
    "# Continuous control points\n",
    "\n",
    "continous_x = df_salrw ['sal']\n",
    "continous_y = new_y(continous_x)\n",
    "\n",
    "plt.figure(figsize=(8,5))\n",
    "plt.plot(x/1000, y, '.',label=\"SLB Gen-6\")\n",
    "plt.plot(continous_x/1000, continous_y, label=\"Regression\")\n",
    "plt.xlabel(\"Salinity(kppm)\")\n",
    "plt.ylabel(\"Estimated Cw@75ºF(s/m)\")\n",
    "plt.grid(True)\n",
    "plt.xlim(0,300)\n",
    "plt.legend()\n",
    "plt.show()"
   ]
  },
  {
   "cell_type": "markdown",
   "metadata": {},
   "source": [
    "Fig.3 - Regression of the control data"
   ]
  },
  {
   "cell_type": "code",
   "execution_count": 14,
   "metadata": {},
   "outputs": [
    {
     "data": {
      "image/png": "[encoded data removed]",
      "text/plain": [
       "<Figure size 576x360 with 1 Axes>"
      ]
     },
     "metadata": {
      "needs_background": "light"
     },
     "output_type": "display_data"
    }
   ],
   "source": [
    "plt.figure(figsize=(8,5))\n",
    "plt.plot(continous_x/1000, continous_y - continous_y, label=\"Regression from SLB Gen-6\")\n",
    "plt.plot(continous_x/1000, continous_y - df_salrw['cw75c'], label=\"Crain\")\n",
    "plt.plot(continous_x/1000, continous_y - df_salrw['cw75bk'], label=\"Bateman-Konen\")\n",
    "plt.plot(continous_x/1000, continous_y - df_salrw['cw75k'], label=\"Kennedy\")\n",
    "plt.xlabel(\"Salinity(kppm)\")\n",
    "plt.ylabel(\"Residual\")\n",
    "plt.grid(True)\n",
    "plt.xlim(0,300)\n",
    "plt.legend()\n",
    "plt.show()"
   ]
  },
  {
   "cell_type": "markdown",
   "metadata": {},
   "source": [
    "Fig.4 - Residual of the three formulas respect to the control data"
   ]
  },
  {
   "cell_type": "markdown",
   "metadata": {},
   "source": [
    "## Final observation\n",
    "\n",
    "A residual of formula respect a control data (regression in this case) should be distributed around zero. Figure 4 confirms what in shown in figure 3B, that the Kennedy formula is the best from salinity to conductivity. The other two formulas show strong trends far from zero, specially between 140 and 160 kppm of salinity."
   ]
  }
 ],
 "metadata": {
  "kernelspec": {
   "display_name": "Python 3",
   "language": "python",
   "name": "python3"
  },
  "language_info": {
   "codemirror_mode": {
    "name": "ipython",
    "version": 3
   },
   "file_extension": ".py",
   "mimetype": "text/x-python",
   "name": "python",
   "nbconvert_exporter": "python",
   "pygments_lexer": "ipython3",
   "version": "3.8.6"
  },
  "toc": {
   "base_numbering": 1,
   "nav_menu": {},
   "number_sections": true,
   "sideBar": true,
   "skip_h1_title": false,
   "title_cell": "Table of Contents",
   "title_sidebar": "Contents",
   "toc_cell": false,
   "toc_position": {},
   "toc_section_display": true,
   "toc_window_display": false
  },
  "varInspector": {
   "cols": {
    "lenName": 16,
    "lenType": 16,
    "lenVar": 40
   },
   "kernels_config": {
    "python": {
     "delete_cmd_postfix": "",
     "delete_cmd_prefix": "del ",
     "library": "var_list.py",
     "varRefreshCmd": "print(var_dic_list())"
    },
    "r": {
     "delete_cmd_postfix": ") ",
     "delete_cmd_prefix": "rm(",
     "library": "var_list.r",
     "varRefreshCmd": "cat(var_dic_list()) "
    }
   },
   "position": {
    "height": "549px",
    "left": "701px",
    "right": "20px",
    "top": "25px",
    "width": "665px"
   },
   "types_to_exclude": [
    "module",
    "function",
    "builtin_function_or_method",
    "instance",
    "_Feature"
   ],
   "window_display": false
  }
 },
 "nbformat": 4,
 "nbformat_minor": 4
}
